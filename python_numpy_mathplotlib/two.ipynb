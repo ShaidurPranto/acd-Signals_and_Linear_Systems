{
 "cells": [
  {
   "cell_type": "code",
   "execution_count": 12,
   "metadata": {},
   "outputs": [
    {
     "name": "stdout",
     "output_type": "stream",
     "text": [
      "[[1, 2], [3, 4, 5]]\n"
     ]
    }
   ],
   "source": [
    "import numpy as np\n",
    "a = [[1,2],[3,4,5]]\n",
    "print(a)"
   ]
  },
  {
   "cell_type": "code",
   "execution_count": 17,
   "metadata": {},
   "outputs": [
    {
     "name": "stdout",
     "output_type": "stream",
     "text": [
      "[[1 2]\n",
      " [3 4]]\n",
      "2\n",
      "(2, 2)\n",
      "4\n",
      "int32\n"
     ]
    }
   ],
   "source": [
    "a = np.array([[1,2],[3,4]],dtype=np.int32)\n",
    "print(a)\n",
    "print(a.ndim)\n",
    "print(a.shape)\n",
    "print(a.size)\n",
    "print(a.dtype)"
   ]
  },
  {
   "cell_type": "code",
   "execution_count": 26,
   "metadata": {},
   "outputs": [
    {
     "name": "stdout",
     "output_type": "stream",
     "text": [
      "[[1. 1. 1.]\n",
      " [1. 1. 1.]]\n"
     ]
    }
   ],
   "source": [
    "a = np.ones((2,3))\n",
    "print(a)"
   ]
  },
  {
   "cell_type": "code",
   "execution_count": 23,
   "metadata": {},
   "outputs": [
    {
     "name": "stdout",
     "output_type": "stream",
     "text": [
      "[10 15 20 25 30 35]\n"
     ]
    }
   ],
   "source": [
    "a = np.arange(10,36,5)\n",
    "print(a)"
   ]
  },
  {
   "cell_type": "code",
   "execution_count": 25,
   "metadata": {},
   "outputs": [
    {
     "name": "stdout",
     "output_type": "stream",
     "text": [
      "[ 1  3  5  7 10]\n"
     ]
    }
   ],
   "source": [
    "a = np.linspace(1,10,5,dtype=np.int32)\n",
    "print(a)"
   ]
  },
  {
   "cell_type": "code",
   "execution_count": 39,
   "metadata": {},
   "outputs": [
    {
     "name": "stdout",
     "output_type": "stream",
     "text": [
      "[0 1 2 3 4 5]\n",
      "[0 1 2 3 4 5]\n",
      "[[0 1]\n",
      " [2 3]\n",
      " [4 5]]\n",
      "[[0 2 4]\n",
      " [1 3 5]]\n",
      "[0 1 2 3 4 5]\n"
     ]
    }
   ],
   "source": [
    "a = np.array(range(6))\n",
    "print(a)\n",
    "b = a.reshape((3,2))\n",
    "print(a)\n",
    "print(b)\n",
    "print(b.T)\n",
    "print(a.T)"
   ]
  },
  {
   "cell_type": "code",
   "execution_count": 58,
   "metadata": {},
   "outputs": [
    {
     "name": "stdout",
     "output_type": "stream",
     "text": [
      "this is the original c\n",
      "[[ 1  2]\n",
      " [ 3  4]\n",
      " [ 9 10]\n",
      " [11 12]]\n",
      "this is the splitted c\n",
      "[[1 2]\n",
      " [3 4]]\n"
     ]
    }
   ],
   "source": [
    "a = np.array([[1,2],[3,4]])\n",
    "b = np.array([[9,10],[11,12]])\n",
    "c = np.vstack((a,b))\n",
    "print(\"this is the original c\")\n",
    "print(c)\n",
    "print(\"this is the splitted c\")\n",
    "x,y=np.vsplit(c,2)\n",
    "print(x)\n",
    "\n"
   ]
  }
 ],
 "metadata": {
  "kernelspec": {
   "display_name": "Python 3",
   "language": "python",
   "name": "python3"
  },
  "language_info": {
   "codemirror_mode": {
    "name": "ipython",
    "version": 3
   },
   "file_extension": ".py",
   "mimetype": "text/x-python",
   "name": "python",
   "nbconvert_exporter": "python",
   "pygments_lexer": "ipython3",
   "version": "3.12.5"
  }
 },
 "nbformat": 4,
 "nbformat_minor": 2
}
